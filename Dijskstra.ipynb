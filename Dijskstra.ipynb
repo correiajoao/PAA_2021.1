{
 "cells": [
  {
   "cell_type": "markdown",
   "metadata": {},
   "source": [
    "#### Estrutura de dados para o Grafo"
   ]
  },
  {
   "cell_type": "code",
   "execution_count": 2,
   "metadata": {},
   "outputs": [],
   "source": [
    "import math\n",
    "from collections import defaultdict\n",
    "\n",
    "# https://stackoverflow.com/questions/19472530/representing-graphs-data-structure-in-python\n",
    "class Graph(object):\n",
    "    \"\"\" Graph data structure, undirected by default. \"\"\"\n",
    "    vertex = 0;\n",
    "    edge = 0;\n",
    "\n",
    "    def __init__(self, connections, directed=False):\n",
    "        self._graph = defaultdict(set)\n",
    "        self._directed = directed\n",
    "        self.add_connections(connections)\n",
    "\n",
    "    def add_connections(self, connections):\n",
    "        \"\"\" Add connections (list of tuple pairs) to graph \"\"\"\n",
    "        for node1, node2, weight in connections:\n",
    "            self.add(node1, node2, weight)\n",
    "\n",
    "    def add(self, node1, node2, weight):\n",
    "        \"\"\" Add connection between node1 and node2 \"\"\"\n",
    "        self._graph[node1].add(tuple([weight, node2]))\n",
    "\n",
    "        if not self._directed:\n",
    "            self._graph[node2].add(tuple([weight, node1]))\n",
    "        else:\n",
    "            if node2 not in self._graph:\n",
    "                self._graph[node2].add(tuple([node2, node2]))\n",
    "\n",
    "        self.edge += 1;\n",
    "        self.vertex = len(self._graph);\n",
    "        \n",
    "    def remove(self, node):\n",
    "        \"\"\" Remove all references to node \"\"\"\n",
    "        for n, cxns in self._graph.items():\n",
    "            try:\n",
    "                cxns.remove(node)\n",
    "            except KeyError:\n",
    "                pass\n",
    "        try:\n",
    "            del self._graph[node]\n",
    "        except KeyError:\n",
    "            pass\n",
    "\n",
    "    def is_connected(self, node1, node2):\n",
    "        \"\"\" Is node1 directly connected to node2 \"\"\"\n",
    "        return node1 in self._graph and node2 in self._graph[node1]\n",
    "    \n",
    "    def get_number_vertices(self):\n",
    "        return self.vertex;\n",
    "\n",
    "    def get_number_edges(self):\n",
    "        return self.edge;\n",
    "\n",
    "    def __str__(self):\n",
    "        return '{}({})'.format(self.__class__.__name__, dict(self._graph))"
   ]
  },
  {
   "cell_type": "markdown",
   "metadata": {},
   "source": [
    " #### Implementa o pseudo-código proposto \n",
    "\n",
    "O algoritmo é executado tendo como entrada o grafo disponível em no [slide](https://docs.google.com/presentation/d/1Xt6LbjTD0U_E3ca-FE3DsQUiH9wSoNcLCj-JAKGAMVs/edit#slide=id.g15c01fb3bb_0_0)."
   ]
  },
  {
   "cell_type": "code",
   "execution_count": 3,
   "metadata": {},
   "outputs": [
    {
     "name": "stdout",
     "output_type": "stream",
     "text": [
      "Custo mínimo para sair de 2 e chegar em 0: 6\n",
      "Custo mínimo para sair de 2 e chegar em 1: 2\n",
      "Custo mínimo para sair de 2 e chegar em 2: 0\n",
      "Custo mínimo para sair de 2 e chegar em 3: 5\n",
      "Custo mínimo para sair de 2 e chegar em 4: 7\n",
      "\n",
      "\n",
      "Para chegar em 0 partindo de 2 o nó anterior é: 2\n",
      "Para chegar em 1 partindo de 2 o nó anterior é: 2\n",
      "Para chegar em 2 partindo de 2 o nó anterior é: 0\n",
      "Para chegar em 3 partindo de 2 o nó anterior é: 1\n",
      "Para chegar em 4 partindo de 2 o nó anterior é: 0\n"
     ]
    }
   ],
   "source": [
    "# Implementação do pseudo-código\n",
    "if __name__ == '__main__':\n",
    "\n",
    "    # [(No1, No2, Peso)]\n",
    "    connections = [(1, 3, 3), (1, 4, 6), (2, 1, 2), (2, 3, 7), (2, 0, 6), (3, 4, 5), (0, 4, 1), (4, 4, 0)];\n",
    "\n",
    "    # Cria os grafos G e S, onde S é auxiliar\n",
    "    G = Graph(connections, directed=True)\n",
    "    S = Graph([], directed=True)\n",
    "\n",
    "    source = 2;\n",
    "    d = [math.inf for x in range(0, G.get_number_vertices())]\n",
    "    pred = [-1 for x in range(0, G.get_number_vertices())]\n",
    "\n",
    "    d[source] = 0;\n",
    "    pred[source] = 0;\n",
    "\n",
    "    while (S.get_number_vertices() < G.get_number_vertices()):\n",
    "        \n",
    "        #Busca a aresta com custo mínimo\n",
    "        ## ACREDITO QUE ESTE TRECHO DEVE SER SUBSTITUIDO DE ACORDO COM OS ITEMS DA QUESTAO 1.\n",
    "        min = math.inf;\n",
    "        for key in G._graph:\n",
    "            if d[key] < min:\n",
    "                v = key;\n",
    "                min = d[key]\n",
    "        ##\n",
    "        \n",
    "        # Atualiza o custo do vértice com aresta de custo mínimo e os vértices adjacentes\n",
    "        ## ACREDITO QUE ESTE TRECHO DEVE SER SUBSTITUIDO DE ACORDO COM OS ITEMS DA QUESTAO 1.\n",
    "        for node in G._graph[v]:\n",
    "            if d[v] + node[0] < d[node[1]]:\n",
    "                d[node[1]] = d[v] + node[0];\n",
    "                pred[node[1]] = v;\n",
    "        ## \n",
    "        \n",
    "        S.add(v,v,0);\n",
    "        G.remove(v);\n",
    "\n",
    "    # Imprime o resultado\n",
    "    for i in range(0, len(d)):\n",
    "        print(f'Custo mínimo para sair de {source} e chegar em {i}: {d[i]}')\n",
    "\n",
    "    print('\\n');\n",
    "\n",
    "    for i in range(0, len(d)):\n",
    "        print(f'Para chegar em {i} partindo de {source} o nó anterior é: {pred[i]}')"
   ]
  },
  {
   "cell_type": "code",
   "execution_count": null,
   "metadata": {},
   "outputs": [],
   "source": []
  }
 ],
 "metadata": {
  "kernelspec": {
   "display_name": "Python 3",
   "language": "python",
   "name": "python3"
  },
  "language_info": {
   "codemirror_mode": {
    "name": "ipython",
    "version": 3
   },
   "file_extension": ".py",
   "mimetype": "text/x-python",
   "name": "python",
   "nbconvert_exporter": "python",
   "pygments_lexer": "ipython3",
   "version": "3.9.0"
  }
 },
 "nbformat": 4,
 "nbformat_minor": 4
}
